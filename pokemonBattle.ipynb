{
  "nbformat": 4,
  "nbformat_minor": 0,
  "metadata": {
    "colab": {
      "name": "pokemonBattle.ipynb",
      "provenance": [],
      "collapsed_sections": [],
      "include_colab_link": true
    },
    "kernelspec": {
      "name": "python3",
      "display_name": "Python 3"
    }
  },
  "cells": [
    {
      "cell_type": "markdown",
      "metadata": {
        "id": "view-in-github",
        "colab_type": "text"
      },
      "source": [
        "<a href=\"https://colab.research.google.com/github/zacharywendholt/CSCI-B455-Final/blob/master/pokemonBattle.ipynb\" target=\"_parent\"><img src=\"https://colab.research.google.com/assets/colab-badge.svg\" alt=\"Open In Colab\"/></a>"
      ]
    },
    {
      "cell_type": "code",
      "metadata": {
        "id": "DKGwifNXZ_Ps",
        "colab_type": "code",
        "colab": {}
      },
      "source": [
        "import numpy as np\n",
        "import pandas as pd\n",
        "from sklearn import preprocessing\n",
        "import sklearn\n",
        "from numpy import loadtxt\n",
        "from sklearn.model_selection import train_test_split\n",
        "from sklearn.neural_network import MLPClassifier\n",
        "from keras.models import Sequential\n",
        "from keras.layers import Dense, Conv2D, Activation, Flatten\n",
        "from keras.datasets import cifar10\n",
        "from tensorflow.keras.utils import to_categorical\n",
        "\n",
        "pokemonURL = 'https://raw.githubusercontent.com/zacharywendholt/CSCI-B455-Final/master/pokemon-challenge/pokemon.csv'\n",
        "pokemonData = pd.read_csv(pokemonURL)\n"
      ],
      "execution_count": 0,
      "outputs": []
    },
    {
      "cell_type": "code",
      "metadata": {
        "id": "uuH31l2VQYKp",
        "colab_type": "code",
        "colab": {}
      },
      "source": [
        "#re-assigning names to these columns because they have spaces in their name\n",
        "pokemonData.rename(columns={\"Type 1\": \"Type1\"}, inplace=True)\n",
        "pokemonData.rename(columns={\"Type 2\": \"Type2\"}, inplace=True)\n",
        "# order of legendary pokemon is not randomized. Need to make sure we randomize \n",
        "# when we test we need to make sure there is a mix of both legendary and not legendary\n",
        "cols = pokemonData.columns[2:len(pokemonData.columns)-1]\n",
        "\n",
        "#changing the string values for type to integer values\n",
        "le = preprocessing.LabelEncoder()\n",
        "pokemonData.Type1 = le.fit_transform(pokemonData.Type1)\n",
        "\n",
        "#type 2 has null values so fill them with na\n",
        "pokemonData.Type2 = pokemonData.Type2.fillna(method= \"ffill\")\n",
        "pokemonData.Type2 = le.fit_transform(pokemonData.Type2)\n",
        "\n",
        "x = pokemonData.loc[:, cols]\n",
        "y = pokemonData.Legendary\n",
        "\n",
        "x_train, x_test, y_train, y_test = train_test_split(x,y, test_size =0.33, random_state=42)\n",
        "\n"
      ],
      "execution_count": 0,
      "outputs": []
    },
    {
      "cell_type": "code",
      "metadata": {
        "id": "NrFXitnIoATt",
        "colab_type": "code",
        "colab": {}
      },
      "source": [
        "model = Sequential()\n",
        "model.add(Dense(15, input_dim = len(cols), activation='softmax'))\n",
        "model.add(Dense(1, input_dim = 15, activation = 'relu'))\n",
        "model.compile(loss = 'binary_crossentropy', optimizer = 'adam',metrics =['accuracy'])"
      ],
      "execution_count": 0,
      "outputs": []
    },
    {
      "cell_type": "code",
      "metadata": {
        "id": "cEtaa-7SrRG2",
        "colab_type": "code",
        "colab": {}
      },
      "source": [
        "model.fit(x_train,y_train, epochs=10, batch_size = 32, validation_data= (x_test, y_test))\n",
        "\n",
        "_, accuracy = model.evaluate(x_test,y_test)\n",
        "\n",
        "print(\"Accuracy: \",accuracy)\n"
      ],
      "execution_count": 0,
      "outputs": []
    }
  ]
}