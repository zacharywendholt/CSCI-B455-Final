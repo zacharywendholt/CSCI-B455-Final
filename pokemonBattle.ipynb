{
  "nbformat": 4,
  "nbformat_minor": 0,
  "metadata": {
    "colab": {
      "name": "pokemonBattle.ipynb",
      "provenance": [],
      "collapsed_sections": [],
      "include_colab_link": true
    },
    "kernelspec": {
      "name": "python3",
      "display_name": "Python 3"
    }
  },
  "cells": [
    {
      "cell_type": "markdown",
      "metadata": {
        "id": "view-in-github",
        "colab_type": "text"
      },
      "source": [
        "<a href=\"https://colab.research.google.com/github/zacharywendholt/CSCI-B455-Final/blob/master/pokemonBattle.ipynb\" target=\"_parent\"><img src=\"https://colab.research.google.com/assets/colab-badge.svg\" alt=\"Open In Colab\"/></a>"
      ]
    },
    {
      "cell_type": "code",
      "metadata": {
        "id": "DKGwifNXZ_Ps",
        "colab_type": "code",
        "colab": {}
      },
      "source": [
        "import numpy as np\n",
        "import pandas as pd\n",
        "from sklearn import preprocessing\n",
        "import sklearn\n",
        "import seaborn as sns\n",
        "import matplotlib.pyplot as plt \n",
        "from numpy import loadtxt\n",
        "from sklearn.model_selection import train_test_split\n",
        "from sklearn.neural_network import MLPClassifier\n",
        "from keras.models import Sequential\n",
        "from keras.layers import Dense, Conv2D, Activation, Flatten\n",
        "from keras.datasets import cifar10\n",
        "from tensorflow.keras.utils import to_categorical\n",
        "from sklearn.preprocessing import Normalizer, MinMaxScaler, StandardScaler, RobustScaler, QuantileTransformer, LabelEncoder\n",
        "\n",
        "pokemonURL = 'https://raw.githubusercontent.com/zacharywendholt/CSCI-B455-Final/master/pokemon-challenge/pokemon.csv'\n",
        "pokemonData = pd.read_csv(pokemonURL)\n"
      ],
      "execution_count": 0,
      "outputs": []
    },
    {
      "cell_type": "code",
      "metadata": {
        "id": "8dBpSi5BawMa",
        "colab_type": "code",
        "outputId": "0c9f5b59-0ed8-4b30-d9fd-28bcdc39926b",
        "colab": {
          "base_uri": "https://localhost:8080/",
          "height": 204
        }
      },
      "source": [
        "pokemonData.head()"
      ],
      "execution_count": 0,
      "outputs": [
        {
          "output_type": "execute_result",
          "data": {
            "text/html": [
              "<div>\n",
              "<style scoped>\n",
              "    .dataframe tbody tr th:only-of-type {\n",
              "        vertical-align: middle;\n",
              "    }\n",
              "\n",
              "    .dataframe tbody tr th {\n",
              "        vertical-align: top;\n",
              "    }\n",
              "\n",
              "    .dataframe thead th {\n",
              "        text-align: right;\n",
              "    }\n",
              "</style>\n",
              "<table border=\"1\" class=\"dataframe\">\n",
              "  <thead>\n",
              "    <tr style=\"text-align: right;\">\n",
              "      <th></th>\n",
              "      <th>#</th>\n",
              "      <th>Name</th>\n",
              "      <th>Type 1</th>\n",
              "      <th>Type 2</th>\n",
              "      <th>HP</th>\n",
              "      <th>Attack</th>\n",
              "      <th>Defense</th>\n",
              "      <th>Sp. Atk</th>\n",
              "      <th>Sp. Def</th>\n",
              "      <th>Speed</th>\n",
              "      <th>Generation</th>\n",
              "      <th>Legendary</th>\n",
              "    </tr>\n",
              "  </thead>\n",
              "  <tbody>\n",
              "    <tr>\n",
              "      <th>0</th>\n",
              "      <td>1</td>\n",
              "      <td>Bulbasaur</td>\n",
              "      <td>Grass</td>\n",
              "      <td>Poison</td>\n",
              "      <td>45</td>\n",
              "      <td>49</td>\n",
              "      <td>49</td>\n",
              "      <td>65</td>\n",
              "      <td>65</td>\n",
              "      <td>45</td>\n",
              "      <td>1</td>\n",
              "      <td>False</td>\n",
              "    </tr>\n",
              "    <tr>\n",
              "      <th>1</th>\n",
              "      <td>2</td>\n",
              "      <td>Ivysaur</td>\n",
              "      <td>Grass</td>\n",
              "      <td>Poison</td>\n",
              "      <td>60</td>\n",
              "      <td>62</td>\n",
              "      <td>63</td>\n",
              "      <td>80</td>\n",
              "      <td>80</td>\n",
              "      <td>60</td>\n",
              "      <td>1</td>\n",
              "      <td>False</td>\n",
              "    </tr>\n",
              "    <tr>\n",
              "      <th>2</th>\n",
              "      <td>3</td>\n",
              "      <td>Venusaur</td>\n",
              "      <td>Grass</td>\n",
              "      <td>Poison</td>\n",
              "      <td>80</td>\n",
              "      <td>82</td>\n",
              "      <td>83</td>\n",
              "      <td>100</td>\n",
              "      <td>100</td>\n",
              "      <td>80</td>\n",
              "      <td>1</td>\n",
              "      <td>False</td>\n",
              "    </tr>\n",
              "    <tr>\n",
              "      <th>3</th>\n",
              "      <td>4</td>\n",
              "      <td>Mega Venusaur</td>\n",
              "      <td>Grass</td>\n",
              "      <td>Poison</td>\n",
              "      <td>80</td>\n",
              "      <td>100</td>\n",
              "      <td>123</td>\n",
              "      <td>122</td>\n",
              "      <td>120</td>\n",
              "      <td>80</td>\n",
              "      <td>1</td>\n",
              "      <td>False</td>\n",
              "    </tr>\n",
              "    <tr>\n",
              "      <th>4</th>\n",
              "      <td>5</td>\n",
              "      <td>Charmander</td>\n",
              "      <td>Fire</td>\n",
              "      <td>NaN</td>\n",
              "      <td>39</td>\n",
              "      <td>52</td>\n",
              "      <td>43</td>\n",
              "      <td>60</td>\n",
              "      <td>50</td>\n",
              "      <td>65</td>\n",
              "      <td>1</td>\n",
              "      <td>False</td>\n",
              "    </tr>\n",
              "  </tbody>\n",
              "</table>\n",
              "</div>"
            ],
            "text/plain": [
              "   #           Name Type 1  Type 2  ...  Sp. Def  Speed  Generation  Legendary\n",
              "0  1      Bulbasaur  Grass  Poison  ...       65     45           1      False\n",
              "1  2        Ivysaur  Grass  Poison  ...       80     60           1      False\n",
              "2  3       Venusaur  Grass  Poison  ...      100     80           1      False\n",
              "3  4  Mega Venusaur  Grass  Poison  ...      120     80           1      False\n",
              "4  5     Charmander   Fire     NaN  ...       50     65           1      False\n",
              "\n",
              "[5 rows x 12 columns]"
            ]
          },
          "metadata": {
            "tags": []
          },
          "execution_count": 79
        }
      ]
    },
    {
      "cell_type": "code",
      "metadata": {
        "id": "0e1ylvVSareb",
        "colab_type": "code",
        "outputId": "07bc3618-8be5-48a8-9310-d7022edaebe2",
        "colab": {
          "base_uri": "https://localhost:8080/",
          "height": 705
        }
      },
      "source": [
        "feat_names = pokemonData.columns[2:-1]\n",
        "X = pokemonData[feat_names]\n",
        "#wanna predict legendary\n",
        "y = pokemonData.Legendary\n",
        "\n",
        "\n",
        "encoder = LabelEncoder()\n",
        "# M = 1 and B = 0\n",
        "y = encoder.fit_transform(pokemonData.Legendary.values)\n",
        "\n",
        "\n",
        "#create a heatmap to show relationship\n",
        "sns.heatmap(\n",
        "    data=X.corr(),\n",
        "    annot=True,\n",
        "    fmt='.2f',\n",
        "    cmap='RdYlGn'\n",
        ")\n",
        "\n",
        "fig = plt.gcf()\n",
        "fig.set_size_inches(16, 12)\n",
        "\n",
        "plt.show()"
      ],
      "execution_count": 0,
      "outputs": [
        {
          "output_type": "display_data",
          "data": {
            "image/png": "[encoded data removed]",
            "text/plain": [
              "<Figure size 1152x864 with 2 Axes>"
            ]
          },
          "metadata": {
            "tags": [],
            "needs_background": "light"
          }
        }
      ]
    },
    {
      "cell_type": "code",
      "metadata": {
        "id": "x5edjGL-4E35",
        "colab_type": "code",
        "outputId": "7cf15586-c5c8-4464-d981-f15d166ba7a6",
        "colab": {
          "base_uri": "https://localhost:8080/",
          "height": 453
        }
      },
      "source": [
        "s = pokemonData[pokemonData[\"Defense\"] >= 0.50][\"Sp. Def\"].value_counts().head(5)\n",
        "plt.title(\"Number of Special Defense and Defense Combined\")\n",
        "s.plot(kind='bar',figsize=(20, 10))\n",
        "plt.xlabel(\"Sp. Def\")\n",
        "plt.ylabel(\"Pokemon\")\n",
        "plt.show()"
      ],
      "execution_count": 0,
      "outputs": [
        {
          "output_type": "display_data",
          "data": {
            "image/png": "[encoded data removed]",
            "text/plain": [
              "<Figure size 1440x720 with 1 Axes>"
            ]
          },
          "metadata": {
            "tags": [],
            "needs_background": "light"
          }
        }
      ]
    },
    {
      "cell_type": "code",
      "metadata": {
        "id": "uuH31l2VQYKp",
        "colab_type": "code",
        "outputId": "3ba163cf-a7c9-4a9e-a176-53ca344c03bc",
        "colab": {
          "base_uri": "https://localhost:8080/",
          "height": 255
        }
      },
      "source": [
        "#re-assigning names to these columns because they have spaces in their name\n",
        "pokemonData.rename(columns={\"Type 1\": \"Type1\"}, inplace=True)\n",
        "pokemonData.rename(columns={\"Type 2\": \"Type2\"}, inplace=True)\n",
        "# order of legendary pokemon is not randomized. Need to make sure we randomize \n",
        "# when we test we need to make sure there is a mix of both legendary and not legendary\n",
        "cols = pokemonData.columns[2:len(pokemonData.columns)-1]\n",
        "balancedSample = pd.DataFrame(pokemonData.loc[pokemonData['Legendary'] == True])\n",
        "nonLegendaries = pd.DataFrame(pokemonData.loc[pokemonData['Legendary'] == False])\n",
        "\n",
        "#there are 65 legendary pokemon in this dataset. I found the best way would be to take all of the legendaries, and 65 random normal pokemon to compare. \n",
        "nonLegendaries = nonLegendaries.sample(n = len(balancedSample))\n",
        "balancedSample = balancedSample.append(nonLegendaries)\n",
        "print(balancedSample)\n",
        "\n",
        "#changing the string values for type to integer values\n",
        "le = preprocessing.LabelEncoder()\n",
        "balancedSample.Type1 = le.fit_transform(balancedSample.Type1)\n",
        "\n",
        "#type 2 has null values so fill them with na\n",
        "balancedSample.Type2 = balancedSample.Type2.fillna(method= \"ffill\")\n",
        "balancedSample.Type2 = le.fit_transform(balancedSample.Type2)\n",
        "\n",
        "x = balancedSample.loc[:, cols]\n",
        "y = balancedSample.Legendary\n",
        "\n",
        "x_train, x_test, y_train, y_test = train_test_split(x,y, test_size =0.3, random_state=42)\n",
        "\n"
      ],
      "execution_count": 0,
      "outputs": [
        {
          "output_type": "stream",
          "text": [
            "       #           Name     Type1  ... Speed  Generation  Legendary\n",
            "156  157       Articuno       Ice  ...    85           1       True\n",
            "157  158         Zapdos  Electric  ...   100           1       True\n",
            "158  159        Moltres      Fire  ...    90           1       True\n",
            "162  163         Mewtwo   Psychic  ...   130           1       True\n",
            "163  164  Mega Mewtwo X   Psychic  ...   130           1       True\n",
            "..   ...            ...       ...  ...   ...         ...        ...\n",
            "56    57        Dugtrio    Ground  ...   120           1      False\n",
            "746  747  Meowstic Male   Psychic  ...   104           6      False\n",
            "205  206          Aipom    Normal  ...    85           2      False\n",
            "503  504       Croagunk    Poison  ...    50           4      False\n",
            "57    58         Meowth    Normal  ...    90           1      False\n",
            "\n",
            "[130 rows x 12 columns]\n"
          ],
          "name": "stdout"
        }
      ]
    },
    {
      "cell_type": "code",
      "metadata": {
        "id": "NrFXitnIoATt",
        "colab_type": "code",
        "colab": {}
      },
      "source": [
        "model = Sequential()\n",
        "model.add(Dense(15, input_dim = len(cols), activation='softmax'))\n",
        "model.add(Dense(1, input_dim = 15, activation = 'relu'))\n",
        "model.compile(loss = 'mean_absolute_error', optimizer = 'adam', metrics =['accuracy'])"
      ],
      "execution_count": 0,
      "outputs": []
    },
    {
      "cell_type": "code",
      "metadata": {
        "id": "cEtaa-7SrRG2",
        "colab_type": "code",
        "outputId": "90d20e75-66ed-4ebc-9411-eafb0e0c0523",
        "colab": {
          "base_uri": "https://localhost:8080/",
          "height": 598
        }
      },
      "source": [
        "model.fit(x_train,y_train, epochs=15, batch_size = 32, validation_data= (x_test, y_test))\n",
        "\n",
        "_, accuracy = model.evaluate(x_test,y_test)\n",
        "\n",
        "print(\"Accuracy: \",accuracy)\n",
        "\n"
      ],
      "execution_count": 0,
      "outputs": [
        {
          "output_type": "stream",
          "text": [
            "Train on 91 samples, validate on 39 samples\n",
            "Epoch 1/15\n",
            "91/91 [==============================] - 0s 134us/step - loss: 0.2031 - accuracy: 0.7912 - val_loss: 0.2230 - val_accuracy: 0.7692\n",
            "Epoch 2/15\n",
            "91/91 [==============================] - 0s 98us/step - loss: 0.2025 - accuracy: 0.7912 - val_loss: 0.2206 - val_accuracy: 0.7692\n",
            "Epoch 3/15\n",
            "91/91 [==============================] - 0s 90us/step - loss: 0.2020 - accuracy: 0.7912 - val_loss: 0.2206 - val_accuracy: 0.7692\n",
            "Epoch 4/15\n",
            "91/91 [==============================] - 0s 101us/step - loss: 0.2008 - accuracy: 0.7912 - val_loss: 0.2225 - val_accuracy: 0.7692\n",
            "Epoch 5/15\n",
            "91/91 [==============================] - 0s 101us/step - loss: 0.2008 - accuracy: 0.7912 - val_loss: 0.2217 - val_accuracy: 0.7692\n",
            "Epoch 6/15\n",
            "91/91 [==============================] - 0s 106us/step - loss: 0.1996 - accuracy: 0.8022 - val_loss: 0.2191 - val_accuracy: 0.7692\n",
            "Epoch 7/15\n",
            "91/91 [==============================] - 0s 96us/step - loss: 0.1992 - accuracy: 0.8022 - val_loss: 0.2176 - val_accuracy: 0.7692\n",
            "Epoch 8/15\n",
            "91/91 [==============================] - 0s 94us/step - loss: 0.1985 - accuracy: 0.8022 - val_loss: 0.2183 - val_accuracy: 0.7692\n",
            "Epoch 9/15\n",
            "91/91 [==============================] - 0s 86us/step - loss: 0.1987 - accuracy: 0.8022 - val_loss: 0.2162 - val_accuracy: 0.7692\n",
            "Epoch 10/15\n",
            "91/91 [==============================] - 0s 105us/step - loss: 0.1967 - accuracy: 0.8132 - val_loss: 0.2189 - val_accuracy: 0.7692\n",
            "Epoch 11/15\n",
            "91/91 [==============================] - 0s 117us/step - loss: 0.1970 - accuracy: 0.8022 - val_loss: 0.2189 - val_accuracy: 0.7692\n",
            "Epoch 12/15\n",
            "91/91 [==============================] - 0s 102us/step - loss: 0.1964 - accuracy: 0.8022 - val_loss: 0.2155 - val_accuracy: 0.7692\n",
            "Epoch 13/15\n",
            "91/91 [==============================] - 0s 97us/step - loss: 0.1956 - accuracy: 0.8132 - val_loss: 0.2125 - val_accuracy: 0.7692\n",
            "Epoch 14/15\n",
            "91/91 [==============================] - 0s 99us/step - loss: 0.1943 - accuracy: 0.8132 - val_loss: 0.2153 - val_accuracy: 0.7692\n",
            "Epoch 15/15\n",
            "91/91 [==============================] - 0s 95us/step - loss: 0.1948 - accuracy: 0.8132 - val_loss: 0.2154 - val_accuracy: 0.7692\n",
            "39/39 [==============================] - 0s 60us/step\n",
            "Accuracy:  0.7692307829856873\n"
          ],
          "name": "stdout"
        }
      ]
    }
  ]
}