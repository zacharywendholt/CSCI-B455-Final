{
  "nbformat": 4,
  "nbformat_minor": 0,
  "metadata": {
    "colab": {
      "name": "pokemonBattle.ipynb",
      "provenance": [],
      "collapsed_sections": [],
      "authorship_tag": "ABX9TyNFF9vATcSSdyI9rra1mxuZ",
      "include_colab_link": true
    },
    "kernelspec": {
      "name": "python3",
      "display_name": "Python 3"
    }
  },
  "cells": [
    {
      "cell_type": "markdown",
      "metadata": {
        "id": "view-in-github",
        "colab_type": "text"
      },
      "source": [
        "<a href=\"https://colab.research.google.com/github/zacharywendholt/CSCI-B455-Final/blob/master/pokemonBattle.ipynb\" target=\"_parent\"><img src=\"https://colab.research.google.com/assets/colab-badge.svg\" alt=\"Open In Colab\"/></a>"
      ]
    },
    {
      "cell_type": "code",
      "metadata": {
        "id": "DKGwifNXZ_Ps",
        "colab_type": "code",
        "colab": {
          "base_uri": "https://localhost:8080/",
          "height": 252
        },
        "outputId": "ad59e8dd-e5cf-4595-d166-454039d6331b"
      },
      "source": [
        "import numpy as np\n",
        "import pandas as pd\n",
        "\n",
        "battleURL = 'https://raw.githubusercontent.com/zacharywendholt/CSCI-B455-Final/master/pokemon-challenge/combats.csv'\n",
        "pokemonURL = 'https://raw.githubusercontent.com/zacharywendholt/CSCI-B455-Final/master/pokemon-challenge/pokemon.csv'\n",
        "testsURL = 'https://raw.githubusercontent.com/zacharywendholt/CSCI-B455-Final/master/pokemon-challenge/tests.csv'\n",
        "battleData =pd.read_csv(battleURL)\n",
        "pokemonData = pd.read_csv(pokemonURL)\n",
        "testData = pd.read_csv(testsURL)\n",
        "print(pokemonData)"
      ],
      "execution_count": 8,
      "outputs": [
        {
          "output_type": "stream",
          "text": [
            "       #            Name   Type 1  ... Speed  Generation  Legendary\n",
            "0      1       Bulbasaur    Grass  ...    45           1      False\n",
            "1      2         Ivysaur    Grass  ...    60           1      False\n",
            "2      3        Venusaur    Grass  ...    80           1      False\n",
            "3      4   Mega Venusaur    Grass  ...    80           1      False\n",
            "4      5      Charmander     Fire  ...    65           1      False\n",
            "..   ...             ...      ...  ...   ...         ...        ...\n",
            "795  796         Diancie     Rock  ...    50           6       True\n",
            "796  797    Mega Diancie     Rock  ...   110           6       True\n",
            "797  798  Hoopa Confined  Psychic  ...    70           6       True\n",
            "798  799   Hoopa Unbound  Psychic  ...    80           6       True\n",
            "799  800       Volcanion     Fire  ...    70           6       True\n",
            "\n",
            "[800 rows x 12 columns]\n"
          ],
          "name": "stdout"
        }
      ]
    }
  ]
}